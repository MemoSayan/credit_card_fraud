{
 "cells": [
  {
   "cell_type": "markdown",
   "id": "57457af9",
   "metadata": {},
   "source": [
    "Objetivo Principal:\n",
    "    * Clasificar las transacciones de tarjetas de créditos en Fraudulentas y No Fraudulentas.\n",
    "\n",
    "Objetivos Específicos:\n",
    "    * Ajustar el desbalance de valores del dataset (especificar cómo medir)\n",
    "    * Seleccionar el mejor modelo en base a métricas como accuracy, auc, (buscar una o dos métricas más)\n",
    "\n",
    "(Escojemos modelos no lineales - de clasificación) Ejemplos: regresión logistica, arbol de decisión - red neuronal"
   ]
  },
  {
   "cell_type": "markdown",
   "id": "6a29b50c",
   "metadata": {},
   "source": [
    "Criterios de éxito:\n",
    "accuracy >= 90%, auc >= 0.6, (buscar una o dos métricas más)"
   ]
  },
  {
   "cell_type": "markdown",
   "id": "00295c21",
   "metadata": {},
   "source": [
    "Falta:\n",
    "* Añadir más gráficos e incluir una breve interpretación\n",
    "* Análisis de correlación y explicar brevemente\n",
    "* Detección de patrones\n"
   ]
  },
  {
   "cell_type": "markdown",
   "id": "66da5a84",
   "metadata": {},
   "source": [
    "Para cada transacción:\n",
    "\n",
    "La característica Time representa el tiempo (en segundos) transcurrido entre esa transacción y la primera transacción registrada.\n",
    "\n",
    "La característica Amount indica el monto de la transacción.\n",
    "\n",
    "La característica Class clasifica la transacción según su autenticidad:\n",
    "\n",
    "0: Transacción auténtica.\n",
    "\n",
    "1: Transacción fraudulenta."
   ]
  },
  {
   "cell_type": "markdown",
   "id": "16a2ea0e",
   "metadata": {},
   "source": [
    "El resto de las variables (V1 a V28) son el resultado de una transformación por Análisis de Componentes Principales (PCA) aplicada a las características originales. Estas características originales no están disponibles en el conjunto de datos debido a razones de confidencialidad."
   ]
  },
  {
   "cell_type": "code",
   "execution_count": 14,
   "id": "initial_id",
   "metadata": {
    "ExecuteTime": {
     "end_time": "2024-11-15T21:30:20.585355Z",
     "start_time": "2024-11-15T21:30:19.877223Z"
    },
    "collapsed": true
   },
   "outputs": [
    {
     "name": "stdout",
     "output_type": "stream",
     "text": [
      "   Time        V1        V2        V3        V4        V5        V6        V7  \\\n",
      "0   0.0 -1.359807 -0.072781  2.536347  1.378155 -0.338321  0.462388  0.239599   \n",
      "1   0.0  1.191857  0.266151  0.166480  0.448154  0.060018 -0.082361 -0.078803   \n",
      "2   1.0 -1.358354 -1.340163  1.773209  0.379780 -0.503198  1.800499  0.791461   \n",
      "3   1.0 -0.966272 -0.185226  1.792993 -0.863291 -0.010309  1.247203  0.237609   \n",
      "4   2.0 -1.158233  0.877737  1.548718  0.403034 -0.407193  0.095921  0.592941   \n",
      "\n",
      "         V8        V9  ...       V21       V22       V23       V24       V25  \\\n",
      "0  0.098698  0.363787  ... -0.018307  0.277838 -0.110474  0.066928  0.128539   \n",
      "1  0.085102 -0.255425  ... -0.225775 -0.638672  0.101288 -0.339846  0.167170   \n",
      "2  0.247676 -1.514654  ...  0.247998  0.771679  0.909412 -0.689281 -0.327642   \n",
      "3  0.377436 -1.387024  ... -0.108300  0.005274 -0.190321 -1.175575  0.647376   \n",
      "4 -0.270533  0.817739  ... -0.009431  0.798278 -0.137458  0.141267 -0.206010   \n",
      "\n",
      "        V26       V27       V28  Amount  Class  \n",
      "0 -0.189115  0.133558 -0.021053  149.62      0  \n",
      "1  0.125895 -0.008983  0.014724    2.69      0  \n",
      "2 -0.139097 -0.055353 -0.059752  378.66      0  \n",
      "3 -0.221929  0.062723  0.061458  123.50      0  \n",
      "4  0.502292  0.219422  0.215153   69.99      0  \n",
      "\n",
      "[5 rows x 31 columns]\n",
      "Dimensiones del dataset: (284807, 31)\n"
     ]
    }
   ],
   "source": [
    "import numpy as np\n",
    "import pandas as pd\n",
    "import matplotlib.pyplot as plt\n",
    "import seaborn as sns\n",
    "sns.set()\n",
    "import plotly.express as px\n",
    "\n",
    "\n",
    "# Cargar el dataset\n",
    "data = pd.read_csv('creditcard.csv')\n",
    "\n",
    "# Ver las primeras filas para explorar la estructura\n",
    "print(data.head())\n",
    "\n",
    "# Dimensiones del dataset\n",
    "print(f'Dimensiones del dataset: {data.shape}')\n",
    "\n",
    "\n"
   ]
  },
  {
   "cell_type": "markdown",
   "id": "a9a08f53f8a6a5d2",
   "metadata": {},
   "source": [
    " # Exploración Inicial\n",
    "# a) Resumen del dataset:"
   ]
  },
  {
   "cell_type": "code",
   "execution_count": 15,
   "id": "f7995496cb0b91cb",
   "metadata": {
    "ExecuteTime": {
     "end_time": "2024-11-15T21:30:20.799214Z",
     "start_time": "2024-11-15T21:30:20.586319Z"
    }
   },
   "outputs": [
    {
     "name": "stdout",
     "output_type": "stream",
     "text": [
      "<class 'pandas.core.frame.DataFrame'>\n",
      "RangeIndex: 284807 entries, 0 to 284806\n",
      "Data columns (total 31 columns):\n",
      " #   Column  Non-Null Count   Dtype  \n",
      "---  ------  --------------   -----  \n",
      " 0   Time    284807 non-null  float64\n",
      " 1   V1      284807 non-null  float64\n",
      " 2   V2      284807 non-null  float64\n",
      " 3   V3      284807 non-null  float64\n",
      " 4   V4      284807 non-null  float64\n",
      " 5   V5      284807 non-null  float64\n",
      " 6   V6      284807 non-null  float64\n",
      " 7   V7      284807 non-null  float64\n",
      " 8   V8      284807 non-null  float64\n",
      " 9   V9      284807 non-null  float64\n",
      " 10  V10     284807 non-null  float64\n",
      " 11  V11     284807 non-null  float64\n",
      " 12  V12     284807 non-null  float64\n",
      " 13  V13     284807 non-null  float64\n",
      " 14  V14     284807 non-null  float64\n",
      " 15  V15     284807 non-null  float64\n",
      " 16  V16     284807 non-null  float64\n",
      " 17  V17     284807 non-null  float64\n",
      " 18  V18     284807 non-null  float64\n",
      " 19  V19     284807 non-null  float64\n",
      " 20  V20     284807 non-null  float64\n",
      " 21  V21     284807 non-null  float64\n",
      " 22  V22     284807 non-null  float64\n",
      " 23  V23     284807 non-null  float64\n",
      " 24  V24     284807 non-null  float64\n",
      " 25  V25     284807 non-null  float64\n",
      " 26  V26     284807 non-null  float64\n",
      " 27  V27     284807 non-null  float64\n",
      " 28  V28     284807 non-null  float64\n",
      " 29  Amount  284807 non-null  float64\n",
      " 30  Class   284807 non-null  int64  \n",
      "dtypes: float64(30), int64(1)\n",
      "memory usage: 67.4 MB\n",
      "None\n",
      "                Time            V1            V2            V3            V4  \\\n",
      "count  284807.000000  2.848070e+05  2.848070e+05  2.848070e+05  2.848070e+05   \n",
      "mean    94813.859575  1.168375e-15  3.416908e-16 -1.379537e-15  2.074095e-15   \n",
      "std     47488.145955  1.958696e+00  1.651309e+00  1.516255e+00  1.415869e+00   \n",
      "min         0.000000 -5.640751e+01 -7.271573e+01 -4.832559e+01 -5.683171e+00   \n",
      "25%     54201.500000 -9.203734e-01 -5.985499e-01 -8.903648e-01 -8.486401e-01   \n",
      "50%     84692.000000  1.810880e-02  6.548556e-02  1.798463e-01 -1.984653e-02   \n",
      "75%    139320.500000  1.315642e+00  8.037239e-01  1.027196e+00  7.433413e-01   \n",
      "max    172792.000000  2.454930e+00  2.205773e+01  9.382558e+00  1.687534e+01   \n",
      "\n",
      "                 V5            V6            V7            V8            V9  \\\n",
      "count  2.848070e+05  2.848070e+05  2.848070e+05  2.848070e+05  2.848070e+05   \n",
      "mean   9.604066e-16  1.487313e-15 -5.556467e-16  1.213481e-16 -2.406331e-15   \n",
      "std    1.380247e+00  1.332271e+00  1.237094e+00  1.194353e+00  1.098632e+00   \n",
      "min   -1.137433e+02 -2.616051e+01 -4.355724e+01 -7.321672e+01 -1.343407e+01   \n",
      "25%   -6.915971e-01 -7.682956e-01 -5.540759e-01 -2.086297e-01 -6.430976e-01   \n",
      "50%   -5.433583e-02 -2.741871e-01  4.010308e-02  2.235804e-02 -5.142873e-02   \n",
      "75%    6.119264e-01  3.985649e-01  5.704361e-01  3.273459e-01  5.971390e-01   \n",
      "max    3.480167e+01  7.330163e+01  1.205895e+02  2.000721e+01  1.559499e+01   \n",
      "\n",
      "       ...           V21           V22           V23           V24  \\\n",
      "count  ...  2.848070e+05  2.848070e+05  2.848070e+05  2.848070e+05   \n",
      "mean   ...  1.654067e-16 -3.568593e-16  2.578648e-16  4.473266e-15   \n",
      "std    ...  7.345240e-01  7.257016e-01  6.244603e-01  6.056471e-01   \n",
      "min    ... -3.483038e+01 -1.093314e+01 -4.480774e+01 -2.836627e+00   \n",
      "25%    ... -2.283949e-01 -5.423504e-01 -1.618463e-01 -3.545861e-01   \n",
      "50%    ... -2.945017e-02  6.781943e-03 -1.119293e-02  4.097606e-02   \n",
      "75%    ...  1.863772e-01  5.285536e-01  1.476421e-01  4.395266e-01   \n",
      "max    ...  2.720284e+01  1.050309e+01  2.252841e+01  4.584549e+00   \n",
      "\n",
      "                V25           V26           V27           V28         Amount  \\\n",
      "count  2.848070e+05  2.848070e+05  2.848070e+05  2.848070e+05  284807.000000   \n",
      "mean   5.340915e-16  1.683437e-15 -3.660091e-16 -1.227390e-16      88.349619   \n",
      "std    5.212781e-01  4.822270e-01  4.036325e-01  3.300833e-01     250.120109   \n",
      "min   -1.029540e+01 -2.604551e+00 -2.256568e+01 -1.543008e+01       0.000000   \n",
      "25%   -3.171451e-01 -3.269839e-01 -7.083953e-02 -5.295979e-02       5.600000   \n",
      "50%    1.659350e-02 -5.213911e-02  1.342146e-03  1.124383e-02      22.000000   \n",
      "75%    3.507156e-01  2.409522e-01  9.104512e-02  7.827995e-02      77.165000   \n",
      "max    7.519589e+00  3.517346e+00  3.161220e+01  3.384781e+01   25691.160000   \n",
      "\n",
      "               Class  \n",
      "count  284807.000000  \n",
      "mean        0.001727  \n",
      "std         0.041527  \n",
      "min         0.000000  \n",
      "25%         0.000000  \n",
      "50%         0.000000  \n",
      "75%         0.000000  \n",
      "max         1.000000  \n",
      "\n",
      "[8 rows x 31 columns]\n"
     ]
    }
   ],
   "source": [
    "# Verificar tipos de datos y valores nulos\n",
    "print(data.info())\n",
    "\n",
    "# Resumen estadístico\n",
    "#Proporciona estadísticas básicas como media, desviación estándar, etc., para cada variable.\n",
    "print(data.describe())"
   ]
  },
  {
   "cell_type": "markdown",
   "id": "4ea892f89a14ca15",
   "metadata": {},
   "source": [
    "b) Distribución de la variable objetivo (Class):"
   ]
  },
  {
   "cell_type": "code",
   "execution_count": 16,
   "id": "e4d9ad3800e8b028",
   "metadata": {
    "ExecuteTime": {
     "end_time": "2024-11-15T21:30:20.803356Z",
     "start_time": "2024-11-15T21:30:20.799899Z"
    }
   },
   "outputs": [
    {
     "name": "stdout",
     "output_type": "stream",
     "text": [
      "Class\n",
      "0    284315\n",
      "1       492\n",
      "Name: count, dtype: int64\n",
      "Porcentaje de fraudes: 0.17%\n"
     ]
    }
   ],
   "source": [
    "# Conteo de valores de la clase objetivo\n",
    "print(data['Class'].value_counts())\n",
    "\n",
    "# Porcentaje de fraudes\n",
    "fraude_ratio = data['Class'].mean() * 100\n",
    "print(f'Porcentaje de fraudes: {fraude_ratio:.2f}%')\n"
   ]
  },
  {
   "cell_type": "markdown",
   "id": "2c51446b41cbb34d",
   "metadata": {},
   "source": [
    "3. Visualización de los datos:\n",
    "4. a) Distribución de Time y Amount:"
   ]
  },
  {
   "cell_type": "code",
   "execution_count": 17,
   "id": "16875e6726eeb3f6",
   "metadata": {
    "ExecuteTime": {
     "end_time": "2024-11-15T21:30:21.712352Z",
     "start_time": "2024-11-15T21:30:20.804938Z"
    }
   },
   "outputs": [
    {
     "data": {
      "image/png": "[encoded data removed]",
      "text/plain": [
       "<Figure size 1000x500 with 1 Axes>"
      ]
     },
     "metadata": {},
     "output_type": "display_data"
    },
    {
     "data": {
      "image/png": "[encoded data removed]",
      "text/plain": [
       "<Figure size 1000x500 with 1 Axes>"
      ]
     },
     "metadata": {},
     "output_type": "display_data"
    }
   ],
   "source": [
    "\n",
    "# Histograma de la variable Time\n",
    "plt.figure(figsize=(10, 5))\n",
    "sns.histplot(data['Time'], bins=50, kde=True)\n",
    "plt.title('Distribución de Time')\n",
    "plt.show()\n",
    "\n",
    "# Histograma de Amount\n",
    "plt.figure(figsize=(10, 5))\n",
    "sns.histplot(data['Amount'], bins=50, kde=True)\n",
    "plt.title('Distribución de Amount')\n",
    "plt.show()\n"
   ]
  },
  {
   "cell_type": "code",
   "execution_count": 18,
   "id": "a767e8b4d3653bfd",
   "metadata": {
    "ExecuteTime": {
     "end_time": "2024-11-15T21:30:21.931880Z",
     "start_time": "2024-11-15T21:30:21.713401Z"
    }
   },
   "outputs": [
    {
     "data": {
      "image/png": "[encoded data removed]",
      "text/plain": [
       "<Figure size 640x480 with 1 Axes>"
      ]
     },
     "metadata": {},
     "output_type": "display_data"
    }
   ],
   "source": [
    "#b) Distribución de ls clase objetivo\n",
    "sns.countplot(x='Class', data=data)\n",
    "plt.title('Distribución de la clase objetivo')\n",
    "plt.show()\n"
   ]
  },
  {
   "cell_type": "markdown",
   "id": "6d10385e7ac6091d",
   "metadata": {},
   "source": [
    "# Escalado de las Variables (Time y Amount)\n",
    "Aunque las variables principales ya están normalizadas (debido a la PCA), Time y Amount podrían requerir estandarización."
   ]
  },
  {
   "cell_type": "markdown",
   "id": "592074af596c1cac",
   "metadata": {},
   "source": []
  },
  {
   "cell_type": "code",
   "execution_count": 19,
   "id": "c660414fe1de4639",
   "metadata": {
    "ExecuteTime": {
     "end_time": "2024-11-15T21:31:18.986074Z",
     "start_time": "2024-11-15T21:31:18.957200Z"
    }
   },
   "outputs": [
    {
     "name": "stdout",
     "output_type": "stream",
     "text": [
      "\n",
      "-> Las variables 'Time' y 'Amount' fueron escaladas con StandardScaler.\n",
      "               Time        Amount\n",
      "count  2.848070e+05  2.848070e+05\n",
      "mean  -3.065637e-16  2.913952e-17\n",
      "std    1.000002e+00  1.000002e+00\n",
      "min   -1.996583e+00 -3.532294e-01\n",
      "25%   -8.552120e-01 -3.308401e-01\n",
      "50%   -2.131453e-01 -2.652715e-01\n",
      "75%    9.372174e-01 -4.471707e-02\n",
      "max    1.642058e+00  1.023622e+02\n"
     ]
    }
   ],
   "source": [
    "from sklearn.preprocessing import StandardScaler\n",
    "\n",
    "# Escalado de las variables Time y Amount\n",
    "scaler = StandardScaler()\n",
    "data[['Time', 'Amount']] = scaler.fit_transform(data[['Time', 'Amount']])\n",
    "\n",
    "print(\"\\n-> Las variables 'Time' y 'Amount' fueron escaladas con StandardScaler.\")\n",
    "print(data[['Time', 'Amount']].describe())\n"
   ]
  },
  {
   "cell_type": "markdown",
   "id": "dfc2337f3e7f6c14",
   "metadata": {},
   "source": []
  },
  {
   "cell_type": "markdown",
   "id": "f567e255a2bfc8dc",
   "metadata": {},
   "source": [
    "# Balanceo de Clases\n",
    "Debido al desbalance extremo (0.172% de fraudes), es importante preparar estrategias. Por ahora, puedes separar las clases para luego usar técnicas de balanceo."
   ]
  },
  {
   "cell_type": "code",
   "execution_count": 20,
   "id": "ec9bd934f8e4fdff",
   "metadata": {
    "ExecuteTime": {
     "end_time": "2024-11-15T21:30:21.957376Z",
     "start_time": "2024-11-15T21:30:21.941723Z"
    }
   },
   "outputs": [
    {
     "name": "stdout",
     "output_type": "stream",
     "text": [
      "Transacciones fraudulentas: 492\n",
      "Transacciones no fraudulentas: 284315\n"
     ]
    }
   ],
   "source": [
    "# Separar las clases\n",
    "fraudes = data[data['Class'] == 1]\n",
    "no_fraudes = data[data['Class'] == 0]\n",
    "\n",
    "print(f'Transacciones fraudulentas: {len(fraudes)}')\n",
    "print(f'Transacciones no fraudulentas: {len(no_fraudes)}')\n"
   ]
  },
  {
   "cell_type": "markdown",
   "id": "bc70a52b7f00b5db",
   "metadata": {},
   "source": [
    "usar undersampling o oversampling (como SMOTE) según la estrategia que decidamos\n",
    "\n"
   ]
  },
  {
   "cell_type": "markdown",
   "id": "cbd0da5b343125b9",
   "metadata": {},
   "source": [
    "#  División del Dataset\n",
    "Dividir los datos en conjuntos de entrenamiento y prueba es crucial para evaluar el modelo de manera objetiva."
   ]
  },
  {
   "cell_type": "code",
   "execution_count": 21,
   "id": "dfe4a006ea9a3455",
   "metadata": {
    "ExecuteTime": {
     "end_time": "2024-11-15T21:33:30.378689Z",
     "start_time": "2024-11-15T21:33:30.167525Z"
    }
   },
   "outputs": [
    {
     "name": "stdout",
     "output_type": "stream",
     "text": [
      "Tamaño del conjunto de entrenamiento: (199364, 30)\n",
      "Tamaño del conjunto de prueba: (85443, 30)\n"
     ]
    }
   ],
   "source": [
    "from sklearn.model_selection import train_test_split\n",
    "\n",
    "# Separar las características (X) y la clase objetivo (y)\n",
    "X = data.drop(columns=['Class'])  # Eliminar la columna objetivo\n",
    "y = data['Class']                 # Clase objetivo\n",
    "\n",
    "# Dividir en entrenamiento (70%) y prueba (30%)\n",
    "X_train, X_test, y_train, y_test = train_test_split(X, y, test_size=0.3, random_state=42, stratify=y)\n",
    "\n",
    "print(f'Tamaño del conjunto de entrenamiento: {X_train.shape}')\n",
    "print(f'Tamaño del conjunto de prueba: {X_test.shape}')\n"
   ]
  },
  {
   "cell_type": "markdown",
   "id": "7abfebcc97f4a5a9",
   "metadata": {},
   "source": [
    "# Balanceo de Clases\n",
    "El dataset está desbalanceado, lo que puede causar que el modelo se incline hacia la clase mayoritaria. \n",
    "Para evitarlo, se puede aplicar undersampling u oversampling."
   ]
  },
  {
   "cell_type": "code",
   "execution_count": 22,
   "id": "27df97da701e71ec",
   "metadata": {},
   "outputs": [
    {
     "name": "stdout",
     "output_type": "stream",
     "text": [
      "Nuevas dimensiones tras SMOTE: (398040, 30)\n",
      "Clase 0: 199020 | Clase 1: 199020\n"
     ]
    }
   ],
   "source": [
    "from imblearn.over_sampling import SMOTE\n",
    "\n",
    "# Aplicar SMOTE al conjunto de entrenamiento\n",
    "smote = SMOTE(random_state=42)\n",
    "X_train_balanced, y_train_balanced = smote.fit_resample(X_train, y_train)\n",
    "\n",
    "print(f'Nuevas dimensiones tras SMOTE: {X_train_balanced.shape}')\n",
    "print(f'Clase 0: {(y_train_balanced == 0).sum()} | Clase 1: {(y_train_balanced == 1).sum()}')\n"
   ]
  }
 ],
 "metadata": {
  "kernelspec": {
   "display_name": "Python 3",
   "language": "python",
   "name": "python3"
  },
  "language_info": {
   "codemirror_mode": {
    "name": "ipython",
    "version": 3
   },
   "file_extension": ".py",
   "mimetype": "text/x-python",
   "name": "python",
   "nbconvert_exporter": "python",
   "pygments_lexer": "ipython3",
   "version": "3.10.5"
  }
 },
 "nbformat": 4,
 "nbformat_minor": 5
}
